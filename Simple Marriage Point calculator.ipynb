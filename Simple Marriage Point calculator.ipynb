{
 "cells": [
  {
   "cell_type": "code",
   "execution_count": 6,
   "metadata": {},
   "outputs": [],
   "source": [
    "def maal(x,y,z):\n",
    "    if(x*z>y):\n",
    "        return (\"you win : \",(x*z)-y)\n",
    "    elif(x*z<y):\n",
    "        return (\"you need to pay: \",y-(x*z))"
   ]
  },
  {
   "cell_type": "code",
   "execution_count": 10,
   "metadata": {},
   "outputs": [
    {
     "name": "stdout",
     "output_type": "stream",
     "text": [
      "Your Maal: 40\n",
      "Total Maal: 80\n",
      "Total number of players: 3\n"
     ]
    },
    {
     "data": {
      "text/plain": [
       "('you win : ', 40)"
      ]
     },
     "execution_count": 10,
     "metadata": {},
     "output_type": "execute_result"
    }
   ],
   "source": [
    "x = int(input(\"Your Maal: \"))\n",
    "y = int(input (\"Total Maal: \"))\n",
    "z = int(input (\"Total number of players: \"))\n",
    "maal(x,y,z)"
   ]
  },
  {
   "cell_type": "code",
   "execution_count": null,
   "metadata": {},
   "outputs": [],
   "source": []
  }
 ],
 "metadata": {
  "kernelspec": {
   "display_name": "Python 3",
   "language": "python",
   "name": "python3"
  },
  "language_info": {
   "codemirror_mode": {
    "name": "ipython",
    "version": 3
   },
   "file_extension": ".py",
   "mimetype": "text/x-python",
   "name": "python",
   "nbconvert_exporter": "python",
   "pygments_lexer": "ipython3",
   "version": "3.6.7"
  }
 },
 "nbformat": 4,
 "nbformat_minor": 2
}
